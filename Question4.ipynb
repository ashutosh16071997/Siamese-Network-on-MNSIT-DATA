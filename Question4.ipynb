{
  "nbformat": 4,
  "nbformat_minor": 0,
  "metadata": {
    "colab": {
      "name": "Question4.ipynb",
      "provenance": [],
      "collapsed_sections": [],
      "toc_visible": true
    },
    "kernelspec": {
      "display_name": "Python 3",
      "name": "python3"
    }
  },
  "cells": [
    {
      "cell_type": "code",
      "metadata": {
        "id": "TyC8BbdhR8DU"
      },
      "source": [
        "import tensorflow as tf\n",
        "import numpy as np\n",
        "import pandas as pd\n",
        "import matplotlib.pyplot as plt\n",
        "import os\n",
        "import time\n",
        "import matplotlib.pyplot as plt\n",
        "from tensorflow import keras\n",
        "import numpy as np\n",
        "from keras.models import Sequential\n",
        "from keras.layers import Dense\n",
        "from keras.layers import Dropout\n",
        "from keras.layers import Flatten\n",
        "from keras.constraints import maxnorm\n",
        "from keras.optimizers import SGD\n",
        "from keras.optimizers import Adam\n",
        "from keras.optimizers import RMSprop\n",
        "from keras.layers import Activation\n",
        "from keras.layers.convolutional import Conv2D\n",
        "from keras.layers.convolutional import ZeroPadding2D\n",
        "from keras.layers.convolutional import MaxPooling2D\n",
        "from keras.layers.normalization import BatchNormalization\n",
        "from keras.utils import np_utils\n",
        "import pickle\n",
        "\n",
        "# Import Tensorflow with multiprocessing\n",
        "import tensorflow as tf\n",
        "import multiprocessing as mp\n",
        "from keras import regularizers\n",
        "from tensorflow.keras import metrics\n",
        "\n",
        "# Loading the CIFAR-10 datasets\n",
        "from keras.datasets import cifar10\n",
        "from keras.datasets import mnist\n",
        "\n"
      ],
      "execution_count": 1,
      "outputs": []
    },
    {
      "cell_type": "code",
      "metadata": {
        "colab": {
          "base_uri": "https://localhost:8080/"
        },
        "id": "LSq7YOsyhcew",
        "outputId": "34df31d3-7eb2-4e0a-d781-257216161028"
      },
      "source": [
        "from keras.datasets import mnist\n",
        "import numpy as np\n",
        "(x_train, y_train), (x_test, y_test) = mnist.load_data()\n",
        "x_train = x_train.astype('float32') / 255.\n",
        "x_test = x_test.astype('float32') / 255.\n",
        "x_train = x_train.reshape((len(x_train), np.prod(x_train.shape[1:])))\n",
        "x_test = x_test.reshape((len(x_test), np.prod(x_test.shape[1:])))\n",
        "print(x_train.shape)\n",
        "print(x_test.shape)\n",
        "#x_train = (x_train).reshape(-1,28,28)\n",
        "#x_test =  (x_test).reshape(-1,28,28)\n",
        "input_shape = x_train.shape[1:]\n",
        "print(input_shape)\n",
        "X_train = x_train\n",
        "X_test = x_test\n",
        "Y_train = y_train\n",
        "Y_test = y_test"
      ],
      "execution_count": 2,
      "outputs": [
        {
          "output_type": "stream",
          "text": [
            "Downloading data from https://storage.googleapis.com/tensorflow/tf-keras-datasets/mnist.npz\n",
            "11493376/11490434 [==============================] - 0s 0us/step\n",
            "(60000, 784)\n",
            "(10000, 784)\n",
            "(784,)\n"
          ],
          "name": "stdout"
        }
      ]
    },
    {
      "cell_type": "code",
      "metadata": {
        "colab": {
          "base_uri": "https://localhost:8080/"
        },
        "id": "FO0NCjpcJ1VC",
        "outputId": "7583594e-f5ac-4761-a285-b76aebc3d3c6"
      },
      "source": [
        "print(X_train)"
      ],
      "execution_count": 3,
      "outputs": [
        {
          "output_type": "stream",
          "text": [
            "[[0. 0. 0. ... 0. 0. 0.]\n",
            " [0. 0. 0. ... 0. 0. 0.]\n",
            " [0. 0. 0. ... 0. 0. 0.]\n",
            " ...\n",
            " [0. 0. 0. ... 0. 0. 0.]\n",
            " [0. 0. 0. ... 0. 0. 0.]\n",
            " [0. 0. 0. ... 0. 0. 0.]]\n"
          ],
          "name": "stdout"
        }
      ]
    },
    {
      "cell_type": "code",
      "metadata": {
        "colab": {
          "base_uri": "https://localhost:8080/"
        },
        "id": "LYG4ssyQJ7yc",
        "outputId": "273e7579-e6ed-493f-e6d9-4e427ab5e9cb"
      },
      "source": [
        "print(X_test)"
      ],
      "execution_count": 4,
      "outputs": [
        {
          "output_type": "stream",
          "text": [
            "[[0. 0. 0. ... 0. 0. 0.]\n",
            " [0. 0. 0. ... 0. 0. 0.]\n",
            " [0. 0. 0. ... 0. 0. 0.]\n",
            " ...\n",
            " [0. 0. 0. ... 0. 0. 0.]\n",
            " [0. 0. 0. ... 0. 0. 0.]\n",
            " [0. 0. 0. ... 0. 0. 0.]]\n"
          ],
          "name": "stdout"
        }
      ]
    },
    {
      "cell_type": "code",
      "metadata": {
        "id": "YfNgl9r2h17G"
      },
      "source": [
        "from __future__ import absolute_import\n",
        "from __future__ import print_function\n",
        "\n",
        "import random\n",
        "from keras.models import Model\n",
        "from keras.layers import Input, Flatten, Dense, Dropout, Lambda\n",
        "from keras.optimizers import RMSprop\n",
        "from keras import backend as K"
      ],
      "execution_count": 5,
      "outputs": []
    },
    {
      "cell_type": "markdown",
      "metadata": {
        "id": "EAnwR53-I2BG"
      },
      "source": [
        "## **CONTRASTIVE LOSS**"
      ]
    },
    {
      "cell_type": "code",
      "metadata": {
        "colab": {
          "base_uri": "https://localhost:8080/"
        },
        "id": "PuU-Ek1tjlQk",
        "outputId": "90771bfd-0972-42e7-ce77-684194c4bda3"
      },
      "source": [
        "def compute_accuracy(y_true, y_pred):\n",
        "    return K.mean(K.equal(y_true, K.cast(y_pred < 0.5, y_true.dtype)))\n",
        "def accuracy(y_true,y_pred):\n",
        "    pred = y_pred.ravel() < 0.5\n",
        "    return np.mean(pred == y_true)    \n",
        "def eucliddist(X,y):\n",
        "  dist =  K.sum(K.square(X - y), axis=1, keepdims=True)\n",
        "  return dist\n",
        "def euclid(values):\n",
        "  X,y = values\n",
        "  dist = eucliddist(X,y)\n",
        "  return K.sqrt(K.maximum(dist, K.epsilon()))\n",
        "def euclidshape(shapes):\n",
        "  shape1, shape2 = shapes\n",
        "  return (shape1[0], 1)\n",
        "def loss1(Y_real,Y_predicted):\n",
        "    # Y_predicted = tf.dtypes.cast(Y_predicted, tf.int64)\n",
        "    # print(Y_predicted.dtype)\n",
        "    # print(Y_real.dtype)\n",
        "    margin = 1\n",
        "    sqaureprediction = K.square(Y_predicted)\n",
        "    marginsquare = K.square(K.maximum(margin - Y_predicted, 0))\n",
        "    return K.mean(Y_real * sqaureprediction + (1 - Y_real) * marginsquare)\n",
        "def paircreation(X,digitindices):\n",
        "  pairs = []\n",
        "  labels = []\n",
        "  n = min([len(digitindices[d]) for d in range(10)]) - 1    \n",
        "  i = 0\n",
        "  while(i<10):\n",
        "    j = 0\n",
        "    while(j<n):\n",
        "      z1 = digitindices[i][j]\n",
        "      z2 = digitindices[i][j + 1]\n",
        "      pairs += [[X[z1], X[z2]]]\n",
        "      inc = random.randrange(1, 10)\n",
        "      dn = (i + inc) % 10\n",
        "      z1, z2 = digitindices[i][j], digitindices[dn][j]\n",
        "      pairs += [[X[z1], X[z2]]]\n",
        "      labels += [1, 0]    \n",
        "      j = j+1\n",
        "    i = i+1\n",
        "  return np.array(pairs), np.array(labels)\n",
        "def base_model(inputshape):\n",
        "    input = Input(shape=inputshape)\n",
        "    x = Dense(64, activation='relu')(input)\n",
        "    x = Dense(128, activation='relu')(x)\n",
        "    x = Dense(256, activation='relu')(x)\n",
        "    x = Lambda(lambda  x: K.l2_normalize(x,axis=1))(x)\n",
        "    x = Lambda(lambda  x: K.l2_normalize(x,axis=1))(x)\n",
        "    return Model(input,x)\n",
        "digitindices = [np.where(Y_train == i)[0] for i in range(10)]\n",
        "tr_pairs, tr_y = paircreation(X_train, digitindices)\n",
        "tr_y = tr_y.astype(\"float32\")\n",
        "#print(tr_pairs,tr_y)\n",
        "digitindices = [np.where(Y_test == i)[0] for i in range(10)]\n",
        "te_pairs, te_y = paircreation(X_test, digitindices)\n",
        "te_y = te_y.astype(\"float32\")\n",
        "#print(te_pairs,te_y)\n",
        "modelbase = base_model(input_shape)\n",
        "input_a = Input(shape=input_shape)\n",
        "input_b = Input(shape=input_shape)\n",
        "processeda = modelbase(input_a)\n",
        "processedb = modelbase(input_b)\n",
        "distance = Lambda(euclid,output_shape=euclidshape)([processeda, processedb])\n",
        "MOdel = Model([input_a, input_b], distance)    \n",
        "rms = RMSprop()\n",
        "MOdel.compile(loss=loss1, optimizer=rms, metrics=[compute_accuracy])\n",
        "history = MOdel.fit([tr_pairs[:, 0], tr_pairs[:, 1]], tr_y,batch_size=128,epochs=10,validation_data=([te_pairs[:, 0], te_pairs[:, 1]], te_y))\n",
        "y_pred_tr = MOdel.predict([tr_pairs[:, 0], tr_pairs[:, 1]])\n",
        "y_pred_te = MOdel.predict([te_pairs[:, 0], te_pairs[:, 1]])\n",
        "print(len(y_pred_tr))\n",
        "print(len(y_pred_te))\n",
        "trainaccuracy = accuracy(tr_y, y_pred_tr)\n",
        "testaccuracy =  accuracy(te_y, y_pred_te) \n",
        "print('* Accuracy on training set: %0.2f%%' % (100 * trainaccuracy))\n",
        "print('* Accuracy on test set: %0.2f%%' % (100 * testaccuracy))\n"
      ],
      "execution_count": null,
      "outputs": [
        {
          "output_type": "stream",
          "text": [
            "Epoch 1/10\n",
            "847/847 [==============================] - 8s 8ms/step - loss: 0.0895 - compute_accuracy: 0.8893 - val_loss: 0.0368 - val_compute_accuracy: 0.9590\n",
            "Epoch 2/10\n",
            "847/847 [==============================] - 7s 8ms/step - loss: 0.0289 - compute_accuracy: 0.9683 - val_loss: 0.0255 - val_compute_accuracy: 0.9692\n",
            "Epoch 3/10\n",
            "847/847 [==============================] - 7s 8ms/step - loss: 0.0183 - compute_accuracy: 0.9799 - val_loss: 0.0247 - val_compute_accuracy: 0.9698\n",
            "Epoch 4/10\n",
            "847/847 [==============================] - 7s 8ms/step - loss: 0.0139 - compute_accuracy: 0.9845 - val_loss: 0.0233 - val_compute_accuracy: 0.9711\n",
            "Epoch 5/10\n",
            "847/847 [==============================] - 7s 8ms/step - loss: 0.0110 - compute_accuracy: 0.9878 - val_loss: 0.0240 - val_compute_accuracy: 0.9693\n",
            "Epoch 6/10\n",
            "847/847 [==============================] - 7s 8ms/step - loss: 0.0092 - compute_accuracy: 0.9899 - val_loss: 0.0224 - val_compute_accuracy: 0.9711\n",
            "Epoch 7/10\n",
            "847/847 [==============================] - 8s 9ms/step - loss: 0.0075 - compute_accuracy: 0.9920 - val_loss: 0.0214 - val_compute_accuracy: 0.9740\n",
            "Epoch 8/10\n",
            "847/847 [==============================] - 7s 9ms/step - loss: 0.0071 - compute_accuracy: 0.9922 - val_loss: 0.0237 - val_compute_accuracy: 0.9703\n",
            "Epoch 9/10\n",
            "847/847 [==============================] - 8s 9ms/step - loss: 0.0062 - compute_accuracy: 0.9934 - val_loss: 0.0226 - val_compute_accuracy: 0.9713\n",
            "Epoch 10/10\n",
            "847/847 [==============================] - 7s 9ms/step - loss: 0.0052 - compute_accuracy: 0.9945 - val_loss: 0.0226 - val_compute_accuracy: 0.9722\n",
            "108400\n",
            "17820\n",
            "* Accuracy on training set: 99.52%\n",
            "* Accuracy on test set: 97.21%\n"
          ],
          "name": "stdout"
        }
      ]
    },
    {
      "cell_type": "code",
      "metadata": {
        "id": "pNY2qD1voHxt",
        "colab": {
          "base_uri": "https://localhost:8080/",
          "height": 295
        },
        "outputId": "52882722-c7c5-4ccb-f5d5-2236d34dfa51"
      },
      "source": [
        "history_dict = history.history\n",
        "loss_values = history_dict['loss']\n",
        "val_loss_values = history_dict['val_loss']\n",
        "epochs = range(1, (len(history.history['val_compute_accuracy']) + 1))\n",
        "plt.plot(epochs, loss_values, 'bo', label='Training loss')\n",
        "plt.plot(epochs, val_loss_values, 'b', label='Validation loss')\n",
        "plt.title('Training and validation loss')\n",
        "plt.xlabel('Epochs')\n",
        "plt.ylabel('Loss')\n",
        "plt.legend()\n",
        "plt.show()\n"
      ],
      "execution_count": null,
      "outputs": [
        {
          "output_type": "display_data",
          "data": {
            "image/png": "[encoded data removed]",
            "text/plain": [
              "<Figure size 432x288 with 1 Axes>"
            ]
          },
          "metadata": {
            "tags": [],
            "needs_background": "light"
          }
        }
      ]
    },
    {
      "cell_type": "markdown",
      "metadata": {
        "id": "ILT3Tn-0UjEj"
      },
      "source": [
        "# **Triplet Loss**"
      ]
    },
    {
      "cell_type": "code",
      "metadata": {
        "id": "uYfZajUXUmhn",
        "colab": {
          "base_uri": "https://localhost:8080/"
        },
        "outputId": "f1412a93-9c17-4b66-81f5-2a0932b788a1"
      },
      "source": [
        "!pip install -q -U tensorflow-addons"
      ],
      "execution_count": 7,
      "outputs": [
        {
          "output_type": "stream",
          "text": [
            "\u001b[?25l\r\u001b[K     |▌                               | 10kB 17.7MB/s eta 0:00:01\r\u001b[K     |█                               | 20kB 11.8MB/s eta 0:00:01\r\u001b[K     |█▍                              | 30kB 8.0MB/s eta 0:00:01\r\u001b[K     |█▉                              | 40kB 6.9MB/s eta 0:00:01\r\u001b[K     |██▎                             | 51kB 3.8MB/s eta 0:00:01\r\u001b[K     |██▉                             | 61kB 4.2MB/s eta 0:00:01\r\u001b[K     |███▎                            | 71kB 4.6MB/s eta 0:00:01\r\u001b[K     |███▊                            | 81kB 4.7MB/s eta 0:00:01\r\u001b[K     |████▏                           | 92kB 4.9MB/s eta 0:00:01\r\u001b[K     |████▋                           | 102kB 5.0MB/s eta 0:00:01\r\u001b[K     |█████▏                          | 112kB 5.0MB/s eta 0:00:01\r\u001b[K     |█████▋                          | 122kB 5.0MB/s eta 0:00:01\r\u001b[K     |██████                          | 133kB 5.0MB/s eta 0:00:01\r\u001b[K     |██████▌                         | 143kB 5.0MB/s eta 0:00:01\r\u001b[K     |███████                         | 153kB 5.0MB/s eta 0:00:01\r\u001b[K     |███████▌                        | 163kB 5.0MB/s eta 0:00:01\r\u001b[K     |████████                        | 174kB 5.0MB/s eta 0:00:01\r\u001b[K     |████████▍                       | 184kB 5.0MB/s eta 0:00:01\r\u001b[K     |████████▉                       | 194kB 5.0MB/s eta 0:00:01\r\u001b[K     |█████████▎                      | 204kB 5.0MB/s eta 0:00:01\r\u001b[K     |█████████▉                      | 215kB 5.0MB/s eta 0:00:01\r\u001b[K     |██████████▎                     | 225kB 5.0MB/s eta 0:00:01\r\u001b[K     |██████████▊                     | 235kB 5.0MB/s eta 0:00:01\r\u001b[K     |███████████▏                    | 245kB 5.0MB/s eta 0:00:01\r\u001b[K     |███████████▋                    | 256kB 5.0MB/s eta 0:00:01\r\u001b[K     |████████████▏                   | 266kB 5.0MB/s eta 0:00:01\r\u001b[K     |████████████▋                   | 276kB 5.0MB/s eta 0:00:01\r\u001b[K     |█████████████                   | 286kB 5.0MB/s eta 0:00:01\r\u001b[K     |█████████████▌                  | 296kB 5.0MB/s eta 0:00:01\r\u001b[K     |██████████████                  | 307kB 5.0MB/s eta 0:00:01\r\u001b[K     |██████████████▍                 | 317kB 5.0MB/s eta 0:00:01\r\u001b[K     |███████████████                 | 327kB 5.0MB/s eta 0:00:01\r\u001b[K     |███████████████▍                | 337kB 5.0MB/s eta 0:00:01\r\u001b[K     |███████████████▉                | 348kB 5.0MB/s eta 0:00:01\r\u001b[K     |████████████████▎               | 358kB 5.0MB/s eta 0:00:01\r\u001b[K     |████████████████▊               | 368kB 5.0MB/s eta 0:00:01\r\u001b[K     |█████████████████▎              | 378kB 5.0MB/s eta 0:00:01\r\u001b[K     |█████████████████▊              | 389kB 5.0MB/s eta 0:00:01\r\u001b[K     |██████████████████▏             | 399kB 5.0MB/s eta 0:00:01\r\u001b[K     |██████████████████▋             | 409kB 5.0MB/s eta 0:00:01\r\u001b[K     |███████████████████             | 419kB 5.0MB/s eta 0:00:01\r\u001b[K     |███████████████████▋            | 430kB 5.0MB/s eta 0:00:01\r\u001b[K     |████████████████████            | 440kB 5.0MB/s eta 0:00:01\r\u001b[K     |████████████████████▌           | 450kB 5.0MB/s eta 0:00:01\r\u001b[K     |█████████████████████           | 460kB 5.0MB/s eta 0:00:01\r\u001b[K     |█████████████████████▍          | 471kB 5.0MB/s eta 0:00:01\r\u001b[K     |██████████████████████          | 481kB 5.0MB/s eta 0:00:01\r\u001b[K     |██████████████████████▍         | 491kB 5.0MB/s eta 0:00:01\r\u001b[K     |██████████████████████▉         | 501kB 5.0MB/s eta 0:00:01\r\u001b[K     |███████████████████████▎        | 512kB 5.0MB/s eta 0:00:01\r\u001b[K     |███████████████████████▊        | 522kB 5.0MB/s eta 0:00:01\r\u001b[K     |████████████████████████▎       | 532kB 5.0MB/s eta 0:00:01\r\u001b[K     |████████████████████████▊       | 542kB 5.0MB/s eta 0:00:01\r\u001b[K     |█████████████████████████▏      | 552kB 5.0MB/s eta 0:00:01\r\u001b[K     |█████████████████████████▋      | 563kB 5.0MB/s eta 0:00:01\r\u001b[K     |██████████████████████████      | 573kB 5.0MB/s eta 0:00:01\r\u001b[K     |██████████████████████████▋     | 583kB 5.0MB/s eta 0:00:01\r\u001b[K     |███████████████████████████     | 593kB 5.0MB/s eta 0:00:01\r\u001b[K     |███████████████████████████▌    | 604kB 5.0MB/s eta 0:00:01\r\u001b[K     |████████████████████████████    | 614kB 5.0MB/s eta 0:00:01\r\u001b[K     |████████████████████████████▍   | 624kB 5.0MB/s eta 0:00:01\r\u001b[K     |████████████████████████████▉   | 634kB 5.0MB/s eta 0:00:01\r\u001b[K     |█████████████████████████████▍  | 645kB 5.0MB/s eta 0:00:01\r\u001b[K     |█████████████████████████████▉  | 655kB 5.0MB/s eta 0:00:01\r\u001b[K     |██████████████████████████████▎ | 665kB 5.0MB/s eta 0:00:01\r\u001b[K     |██████████████████████████████▊ | 675kB 5.0MB/s eta 0:00:01\r\u001b[K     |███████████████████████████████▏| 686kB 5.0MB/s eta 0:00:01\r\u001b[K     |███████████████████████████████▊| 696kB 5.0MB/s eta 0:00:01\r\u001b[K     |████████████████████████████████| 706kB 5.0MB/s \n",
            "\u001b[?25h"
          ],
          "name": "stdout"
        }
      ]
    },
    {
      "cell_type": "code",
      "metadata": {
        "id": "IyKAyhyJUvxH",
        "colab": {
          "base_uri": "https://localhost:8080/"
        },
        "outputId": "1ca67ac0-3eee-48c0-cfd4-34ccfaf375c0"
      },
      "source": [
        "import tensorflow_addons as tfa\n",
        "def accuracy(y_true, y_pred):\n",
        "    '''Compute classification accuracy with a fixed threshold on distances.\n",
        "    '''\n",
        "    return K.mean(K.equal(y_true, K.cast(y_pred < 0.5, y_true.dtype)))\n",
        "def accuracy1(y_true,y_pred):\n",
        "    pred = y_pred.ravel() < 0.5\n",
        "    return np.mean(pred == y_true) \n",
        "def eucliddist(X,y):\n",
        "  dist =  K.sum(K.square(X - y), axis=1, keepdims=True)\n",
        "  return dist\n",
        "def euclid(values):\n",
        "  X,y = values\n",
        "  dist = eucliddist(X,y)\n",
        "  return K.sqrt(K.maximum(dist, K.epsilon()))\n",
        "def euclidshape(shapes):\n",
        "  shape1, shape2 = shapes\n",
        "  return (shape1[0], 1)\n",
        "def loss1(Y_real,Y_predicted):\n",
        "    # Y_predicted = tf.dtypes.cast(Y_predicted, tf.int64)\n",
        "    # print(Y_predicted.dtype)\n",
        "    # print(Y_real.dtype)\n",
        "    margin = 1\n",
        "    sqaureprediction = K.square(Y_predicted)\n",
        "    marginsquare = K.square(K.maximum(margin - Y_predicted, 0))\n",
        "    return K.mean(Y_real * sqaureprediction + (1 - Y_real) * marginsquare)\n",
        "def paircreation(X,digitindices):\n",
        "  pairs = []\n",
        "  labels = []\n",
        "  n = min([len(digitindices[d]) for d in range(10)]) - 1    \n",
        "  i = 0\n",
        "  while(i<10):\n",
        "    j = 0\n",
        "    while(j<n):\n",
        "      z1 = digitindices[i][j]\n",
        "      z2 = digitindices[i][j + 1]\n",
        "      pairs += [[X[z1], X[z2]]]\n",
        "      inc = random.randrange(1, 10)\n",
        "      dn = (i + inc) % 10\n",
        "      z1, z2 = digitindices[i][j], digitindices[dn][j]\n",
        "      pairs += [[X[z1], X[z2]]]\n",
        "      labels += [1, 0]    \n",
        "      j = j+1\n",
        "    i = i+1\n",
        "  return np.array(pairs), np.array(labels)\n",
        "def base_model(inputshape):\n",
        "    input = Input(shape=inputshape)\n",
        "    x = Dense(128, activation='relu')(input)\n",
        "    x = Dense(128, activation='relu')(x)\n",
        "    x = Dense(128, activation='relu')(x)\n",
        "    x = Lambda(lambda  x: K.l2_normalize(x,axis=1))(x)\n",
        "    x = Lambda(lambda  x: K.l2_normalize(x,axis=1))(x)\n",
        "    return Model(input,x)\n",
        "digitindices = [np.where(Y_train == i)[0] for i in range(10)]\n",
        "tr_pairs, tr_y = paircreation(X_train, digitindices)\n",
        "tr_y = tr_y.astype(\"float32\")\n",
        "#print(tr_pairs,tr_y)\n",
        "digitindices = [np.where(Y_test == i)[0] for i in range(10)]\n",
        "te_pairs, te_y = paircreation(X_test, digitindices)\n",
        "te_y = te_y.astype(\"float32\")\n",
        "#print(te_pairs,te_y)\n",
        "modelbase = base_model(input_shape)\n",
        "input_a = Input(shape=input_shape)\n",
        "input_b = Input(shape=input_shape)\n",
        "processeda = modelbase(input_a)\n",
        "processedb = modelbase(input_b)\n",
        "distance = Lambda(euclid,output_shape=euclidshape)([processeda, processedb])\n",
        "MOdel = Model([input_a, input_b], distance)    \n",
        "rms = RMSprop()\n",
        "MOdel.compile(loss=tfa.losses.TripletSemiHardLoss(), optimizer=rms, metrics=[accuracy])\n",
        "history = MOdel.fit([tr_pairs[:, 0], tr_pairs[:, 1]], tr_y,batch_size=128,epochs=10,validation_data=([te_pairs[:, 0], te_pairs[:, 1]], te_y))\n",
        "y_pred_tr = MOdel.predict([tr_pairs[:, 0], tr_pairs[:, 1]])\n",
        "y_pred_te = MOdel.predict([te_pairs[:, 0], te_pairs[:, 1]])\n",
        "\n",
        "\n",
        "\n",
        "trainaccuracy = accuracy1(tr_y, y_pred_tr)\n",
        "testaccuracy = accuracy1(te_y, y_pred_te) \n",
        "print('* Accuracy on training set: %0.2f%%' % (100 * trainaccuracy))\n",
        "print('* Accuracy on test set: %0.2f%%' % (100 * testaccuracy))\n"
      ],
      "execution_count": null,
      "outputs": [
        {
          "output_type": "stream",
          "text": [
            "Epoch 1/10\n",
            "847/847 [==============================] - 69s 79ms/step - loss: 0.9171 - accuracy: 0.8067 - val_loss: 0.6075 - val_accuracy: 0.9209\n",
            "Epoch 2/10\n",
            "847/847 [==============================] - 63s 75ms/step - loss: 0.6981 - accuracy: 0.9271 - val_loss: 0.5963 - val_accuracy: 0.9208\n",
            "Epoch 3/10\n",
            "847/847 [==============================] - 58s 69ms/step - loss: 0.5868 - accuracy: 0.9510 - val_loss: 0.4494 - val_accuracy: 0.9541\n",
            "Epoch 4/10\n",
            "847/847 [==============================] - 55s 65ms/step - loss: 0.4908 - accuracy: 0.9648 - val_loss: 0.4410 - val_accuracy: 0.9590\n",
            "Epoch 5/10\n",
            "847/847 [==============================] - 48s 57ms/step - loss: 0.4293 - accuracy: 0.9695 - val_loss: 0.4432 - val_accuracy: 0.9573\n",
            "Epoch 6/10\n",
            "847/847 [==============================] - 50s 59ms/step - loss: 0.3839 - accuracy: 0.9748 - val_loss: 0.4378 - val_accuracy: 0.9589\n",
            "Epoch 7/10\n",
            "847/847 [==============================] - 47s 56ms/step - loss: 0.3207 - accuracy: 0.9793 - val_loss: 0.4000 - val_accuracy: 0.9631\n",
            "Epoch 8/10\n",
            "847/847 [==============================] - 47s 56ms/step - loss: 0.3234 - accuracy: 0.9802 - val_loss: 0.3824 - val_accuracy: 0.9651\n",
            "Epoch 9/10\n",
            "847/847 [==============================] - 52s 61ms/step - loss: 0.2831 - accuracy: 0.9830 - val_loss: 0.4079 - val_accuracy: 0.9642\n",
            "Epoch 10/10\n",
            "847/847 [==============================] - 51s 60ms/step - loss: 0.2418 - accuracy: 0.9856 - val_loss: 0.3848 - val_accuracy: 0.9661\n",
            "* Accuracy on training set: 98.53%\n",
            "* Accuracy on test set: 96.59%\n"
          ],
          "name": "stdout"
        }
      ]
    },
    {
      "cell_type": "code",
      "metadata": {
        "id": "mWTOJyVxU4K_",
        "colab": {
          "base_uri": "https://localhost:8080/",
          "height": 295
        },
        "outputId": "ead33de4-9109-4cc9-a604-e1b23e272623"
      },
      "source": [
        "history_dict = history.history\n",
        "loss_values = history_dict['loss']\n",
        "val_loss_values = history_dict['val_loss']\n",
        "epochs = range(1, (len(history.history['val_accuracy']) + 1))\n",
        "plt.plot(epochs, loss_values, 'bo', label='Training loss')\n",
        "plt.plot(epochs, val_loss_values, 'b', label='Validation loss')\n",
        "plt.title('Training and validation loss')\n",
        "plt.xlabel('Epochs')\n",
        "plt.ylabel('Loss')\n",
        "plt.legend()\n",
        "plt.show()\n"
      ],
      "execution_count": null,
      "outputs": [
        {
          "output_type": "display_data",
          "data": {
            "image/png": "[encoded data removed]",
            "text/plain": [
              "<Figure size 432x288 with 1 Axes>"
            ]
          },
          "metadata": {
            "tags": [],
            "needs_background": "light"
          }
        }
      ]
    },
    {
      "cell_type": "markdown",
      "metadata": {
        "id": "ihPMacLfcRK7"
      },
      "source": [
        "# **Regularized Cross Entropy**"
      ]
    },
    {
      "cell_type": "code",
      "metadata": {
        "id": "k0i5GfzncWqb",
        "colab": {
          "base_uri": "https://localhost:8080/"
        },
        "outputId": "cccc48bf-75a7-4883-fc42-0577016165a3"
      },
      "source": [
        "import tensorflow_addons as tfa\n",
        "def accuracy(y_true, y_pred):\n",
        "    '''Compute classification accuracy with a fixed threshold on distances.\n",
        "    '''\n",
        "    return K.mean(K.equal(y_true, K.cast(y_pred < 0.5, y_true.dtype)))\n",
        "def accuracy1(y_true,y_pred):\n",
        "    pred = y_pred.ravel() < 0.5\n",
        "    return np.mean(pred == y_true) \n",
        "def eucliddist(X,y):\n",
        "  dist =  K.sum(K.square(X - y), axis=1, keepdims=True)\n",
        "  return dist\n",
        "def euclid(values):\n",
        "  X,y = values\n",
        "  dist = eucliddist(X,y)\n",
        "  return K.sqrt(K.maximum(dist, K.epsilon()))\n",
        "def euclidshape(shapes):\n",
        "  shape1, shape2 = shapes\n",
        "  return (shape1[0], 1)\n",
        "def loss1(Y_real,Y_predicted):\n",
        "    # Y_predicted = tf.dtypes.cast(Y_predicted, tf.int64)\n",
        "    # print(Y_predicted.dtype)\n",
        "    # print(Y_real.dtype)\n",
        "    margin = 1\n",
        "    sqaureprediction = K.square(Y_predicted)\n",
        "    marginsquare = K.square(K.maximum(margin - Y_predicted, 0))\n",
        "    return K.mean(Y_real * sqaureprediction + (1 - Y_real) * marginsquare)\n",
        "def paircreation(X,digitindices):\n",
        "  pairs = []\n",
        "  labels = []\n",
        "  n = min([len(digitindices[d]) for d in range(10)]) - 1    \n",
        "  i = 0\n",
        "  while(i<10):\n",
        "    j = 0\n",
        "    while(j<n):\n",
        "      z1 = digitindices[i][j]\n",
        "      z2 = digitindices[i][j + 1]\n",
        "      pairs += [[X[z1], X[z2]]]\n",
        "      inc = random.randrange(1, 10)\n",
        "      dn = (i + inc) % 10\n",
        "      z1, z2 = digitindices[i][j], digitindices[dn][j]\n",
        "      pairs += [[X[z1], X[z2]]]\n",
        "      labels += [1, 0]    \n",
        "      j = j+1\n",
        "    i = i+1\n",
        "  return np.array(pairs), np.array(labels)\n",
        "def base_model(inputshape):\n",
        "    input = Input(shape=inputshape)\n",
        "    x = Dense(128, activation='relu')(input)\n",
        "    x = Dense(128, activation='relu')(x)\n",
        "    x = Dense(128, activation='relu')(x)\n",
        "    x = Lambda(lambda  x: K.l2_normalize(x,axis=1))(x)\n",
        "    x = Lambda(lambda  x: K.l2_normalize(x,axis=1))(x)\n",
        "    return Model(input,x)\n",
        "digitindices = [np.where(Y_train == i)[0] for i in range(10)]\n",
        "tr_pairs, tr_y = paircreation(X_train, digitindices)\n",
        "tr_y = tr_y.astype(\"float32\")\n",
        "#print(tr_pairs,tr_y)\n",
        "digitindices = [np.where(Y_test == i)[0] for i in range(10)]\n",
        "te_pairs, te_y = paircreation(X_test, digitindices)\n",
        "te_y = te_y.astype(\"float32\")\n",
        "#print(te_pairs,te_y)\n",
        "modelbase = base_model(input_shape)\n",
        "input_a = Input(shape=input_shape)\n",
        "input_b = Input(shape=input_shape)\n",
        "processeda = modelbase(input_a)\n",
        "processedb = modelbase(input_b)\n",
        "distance = Lambda(euclid,output_shape=euclidshape)([processeda, processedb])\n",
        "MOdel = Model([input_a, input_b], distance)    \n",
        "adm = keras.optimizers.Adam(lr=0.001, beta_1=0.9, beta_2=0.999, epsilon=1e-08, decay=0.0)\n",
        "MOdel.compile(loss='categorical_crossentropy', metrics=[accuracy],optimizer = 'RMSProp')\n",
        "#MOdel.compile(loss=tfa.losses.TripletSemiHardLoss(), optimizer=rms, metrics=[accuracy])\n",
        "history = MOdel.fit([tr_pairs[:, 0], tr_pairs[:, 1]], tr_y,batch_size=128,epochs=10,validation_data=([te_pairs[:, 0], te_pairs[:, 1]], te_y))\n",
        "y_pred_tr = MOdel.predict([tr_pairs[:, 0], tr_pairs[:, 1]])\n",
        "y_pred_te = MOdel.predict([te_pairs[:, 0], te_pairs[:, 1]])\n",
        "\n",
        "\n",
        "\n",
        "trainaccuracy = accuracy1(tr_y, y_pred_tr)\n",
        "testaccuracy = accuracy1(te_y, y_pred_te) \n",
        "print('* Accuracy on training set: %0.2f%%' % (100 * trainaccuracy))\n",
        "print('* Accuracy on test set: %0.2f%%' % (100 * testaccuracy))\n"
      ],
      "execution_count": 11,
      "outputs": [
        {
          "output_type": "stream",
          "text": [
            "Epoch 1/10\n",
            "847/847 [==============================] - 9s 9ms/step - loss: 5.9614e-08 - accuracy: 0.5635 - val_loss: 5.9605e-08 - val_accuracy: 0.5997\n",
            "Epoch 2/10\n",
            "847/847 [==============================] - 7s 9ms/step - loss: 5.9610e-08 - accuracy: 0.5630 - val_loss: 5.9605e-08 - val_accuracy: 0.5997\n",
            "Epoch 3/10\n",
            "847/847 [==============================] - 7s 9ms/step - loss: 5.9895e-08 - accuracy: 0.5607 - val_loss: 5.9605e-08 - val_accuracy: 0.5997\n",
            "Epoch 4/10\n",
            "847/847 [==============================] - 7s 9ms/step - loss: 5.9460e-08 - accuracy: 0.5628 - val_loss: 5.9605e-08 - val_accuracy: 0.5997\n",
            "Epoch 5/10\n",
            "847/847 [==============================] - 7s 9ms/step - loss: 5.9558e-08 - accuracy: 0.5621 - val_loss: 5.9605e-08 - val_accuracy: 0.5997\n",
            "Epoch 6/10\n",
            "847/847 [==============================] - 7s 9ms/step - loss: 5.9579e-08 - accuracy: 0.5640 - val_loss: 5.9605e-08 - val_accuracy: 0.5997\n",
            "Epoch 7/10\n",
            "847/847 [==============================] - 7s 9ms/step - loss: 5.9817e-08 - accuracy: 0.5625 - val_loss: 5.9605e-08 - val_accuracy: 0.5997\n",
            "Epoch 8/10\n",
            "847/847 [==============================] - 7s 9ms/step - loss: 5.9688e-08 - accuracy: 0.5637 - val_loss: 5.9605e-08 - val_accuracy: 0.5997\n",
            "Epoch 9/10\n",
            "847/847 [==============================] - 7s 9ms/step - loss: 5.9822e-08 - accuracy: 0.5624 - val_loss: 5.9605e-08 - val_accuracy: 0.5997\n",
            "Epoch 10/10\n",
            "847/847 [==============================] - 7s 9ms/step - loss: 5.9894e-08 - accuracy: 0.5606 - val_loss: 5.9605e-08 - val_accuracy: 0.5997\n",
            "* Accuracy on training set: 56.29%\n",
            "* Accuracy on test set: 59.84%\n"
          ],
          "name": "stdout"
        }
      ]
    },
    {
      "cell_type": "code",
      "metadata": {
        "colab": {
          "base_uri": "https://localhost:8080/",
          "height": 295
        },
        "id": "uqEn_NKs_C7k",
        "outputId": "ba5fd398-404e-446c-ca1d-7a7d23635f60"
      },
      "source": [
        "history_dict = history.history\n",
        "loss_values = history_dict['loss']\n",
        "val_loss_values = history_dict['val_loss']\n",
        "epochs = range(1, (len(history.history['val_accuracy']) + 1))\n",
        "plt.plot(epochs, loss_values, 'bo', label='Training loss')\n",
        "plt.plot(epochs, val_loss_values, 'b', label='Validation loss')\n",
        "plt.title('Training and validation loss')\n",
        "plt.xlabel('Epochs')\n",
        "plt.ylabel('Loss')\n",
        "plt.legend()\n",
        "plt.show()\n"
      ],
      "execution_count": 12,
      "outputs": [
        {
          "output_type": "display_data",
          "data": {
            "image/png": "[encoded data removed]",
            "text/plain": [
              "<Figure size 432x288 with 1 Axes>"
            ]
          },
          "metadata": {
            "tags": [],
            "needs_background": "light"
          }
        }
      ]
    },
    {
      "cell_type": "markdown",
      "metadata": {
        "id": "OIhbS8ct_HCn"
      },
      "source": [
        "# **ACCURACY COMPARISION**"
      ]
    },
    {
      "cell_type": "markdown",
      "metadata": {
        "id": "csHxv4bD6yT4"
      },
      "source": [
        "**TEST ACCURACY ON CONTRASTIVE LOSS - 97.21%**\n",
        "\n",
        "**TEST ACCURACY ON TRIPLET LOSS - 97.69**\n",
        "\n",
        "**TEST ACCURACY ON REGULARIZED CLASS ENTROPY - 59.84%**\n"
      ]
    },
    {
      "cell_type": "markdown",
      "metadata": {
        "id": "SgPKmIAm-dMF"
      },
      "source": [
        "# **ADAM OPTIMIZER**"
      ]
    },
    {
      "cell_type": "code",
      "metadata": {
        "colab": {
          "base_uri": "https://localhost:8080/"
        },
        "id": "Hw2fgcT2-hpE",
        "outputId": "e424fbc3-a630-4f88-d295-1a9b87347d8f"
      },
      "source": [
        "import tensorflow_addons as tfa\n",
        "def accuracy(y_true, y_pred):\n",
        "    '''Compute classification accuracy with a fixed threshold on distances.\n",
        "    '''\n",
        "    return K.mean(K.equal(y_true, K.cast(y_pred < 0.5, y_true.dtype)))\n",
        "def accuracy1(y_true,y_pred):\n",
        "    pred = y_pred.ravel() < 0.5\n",
        "    return np.mean(pred == y_true) \n",
        "def eucliddist(X,y):\n",
        "  dist =  K.sum(K.square(X - y), axis=1, keepdims=True)\n",
        "  return dist\n",
        "def euclid(values):\n",
        "  X,y = values\n",
        "  dist = eucliddist(X,y)\n",
        "  return K.sqrt(K.maximum(dist, K.epsilon()))\n",
        "def euclidshape(shapes):\n",
        "  shape1, shape2 = shapes\n",
        "  return (shape1[0], 1)\n",
        "def loss1(Y_real,Y_predicted):\n",
        "    # Y_predicted = tf.dtypes.cast(Y_predicted, tf.int64)\n",
        "    # print(Y_predicted.dtype)\n",
        "    # print(Y_real.dtype)\n",
        "    margin = 1\n",
        "    sqaureprediction = K.square(Y_predicted)\n",
        "    marginsquare = K.square(K.maximum(margin - Y_predicted, 0))\n",
        "    return K.mean(Y_real * sqaureprediction + (1 - Y_real) * marginsquare)\n",
        "def paircreation(X,digitindices):\n",
        "  pairs = []\n",
        "  labels = []\n",
        "  n = min([len(digitindices[d]) for d in range(10)]) - 1    \n",
        "  i = 0\n",
        "  while(i<10):\n",
        "    j = 0\n",
        "    while(j<n):\n",
        "      z1 = digitindices[i][j]\n",
        "      z2 = digitindices[i][j + 1]\n",
        "      pairs += [[X[z1], X[z2]]]\n",
        "      inc = random.randrange(1, 10)\n",
        "      dn = (i + inc) % 10\n",
        "      z1, z2 = digitindices[i][j], digitindices[dn][j]\n",
        "      pairs += [[X[z1], X[z2]]]\n",
        "      labels += [1, 0]    \n",
        "      j = j+1\n",
        "    i = i+1\n",
        "  return np.array(pairs), np.array(labels)\n",
        "def base_model(inputshape):\n",
        "    input = Input(shape=inputshape)\n",
        "    x = Dense(128, activation='relu')(input)\n",
        "    x = Dense(128, activation='relu')(x)\n",
        "    x = Dense(128, activation='relu')(x)\n",
        "    x = Lambda(lambda  x: K.l2_normalize(x,axis=1))(x)\n",
        "    x = Lambda(lambda  x: K.l2_normalize(x,axis=1))(x)\n",
        "    return Model(input,x)\n",
        "digitindices = [np.where(Y_train == i)[0] for i in range(10)]\n",
        "tr_pairs, tr_y = paircreation(X_train, digitindices)\n",
        "tr_y = tr_y.astype(\"float32\")\n",
        "#print(tr_pairs,tr_y)\n",
        "digitindices = [np.where(Y_test == i)[0] for i in range(10)]\n",
        "te_pairs, te_y = paircreation(X_test, digitindices)\n",
        "te_y = te_y.astype(\"float32\")\n",
        "#print(te_pairs,te_y)\n",
        "modelbase = base_model(input_shape)\n",
        "input_a = Input(shape=input_shape)\n",
        "input_b = Input(shape=input_shape)\n",
        "processeda = modelbase(input_a)\n",
        "processedb = modelbase(input_b)\n",
        "distance = Lambda(euclid,output_shape=euclidshape)([processeda, processedb])\n",
        "MOdel = Model([input_a, input_b], distance)    \n",
        "adm = keras.optimizers.Adam(lr=0.001, beta_1=0.9, beta_2=0.999, epsilon=1e-08, decay=0.0)\n",
        "MOdel.compile(loss=tfa.losses.TripletSemiHardLoss(), optimizer=adm, metrics=[accuracy])\n",
        "history = MOdel.fit([tr_pairs[:, 0], tr_pairs[:, 1]], tr_y,batch_size=128,epochs=10,validation_data=([te_pairs[:, 0], te_pairs[:, 1]], te_y))\n",
        "y_pred_tr = MOdel.predict([tr_pairs[:, 0], tr_pairs[:, 1]])\n",
        "y_pred_te = MOdel.predict([te_pairs[:, 0], te_pairs[:, 1]])\n",
        "\n",
        "\n",
        "\n",
        "trainaccuracy = accuracy1(tr_y, y_pred_tr)\n",
        "testaccuracy = accuracy1(te_y, y_pred_te) \n",
        "print('* Accuracy on training set: %0.2f%%' % (100 * trainaccuracy))\n",
        "print('* Accuracy on test set: %0.2f%%' % (100 * testaccuracy))\n"
      ],
      "execution_count": null,
      "outputs": [
        {
          "output_type": "stream",
          "text": [
            "Epoch 1/10\n",
            "847/847 [==============================] - 52s 60ms/step - loss: 0.9242 - accuracy: 0.8079 - val_loss: 0.6834 - val_accuracy: 0.9086\n",
            "Epoch 2/10\n",
            "847/847 [==============================] - 54s 64ms/step - loss: 0.7299 - accuracy: 0.9201 - val_loss: 0.5727 - val_accuracy: 0.9392\n",
            "Epoch 3/10\n",
            "847/847 [==============================] - 53s 63ms/step - loss: 0.6252 - accuracy: 0.9455 - val_loss: 0.5431 - val_accuracy: 0.9438\n",
            "Epoch 4/10\n",
            "847/847 [==============================] - 55s 65ms/step - loss: 0.5620 - accuracy: 0.9578 - val_loss: 0.5363 - val_accuracy: 0.9424\n",
            "Epoch 5/10\n",
            "847/847 [==============================] - 54s 64ms/step - loss: 0.4835 - accuracy: 0.9654 - val_loss: 0.4950 - val_accuracy: 0.9539\n",
            "Epoch 6/10\n",
            "847/847 [==============================] - 52s 62ms/step - loss: 0.4431 - accuracy: 0.9709 - val_loss: 0.4474 - val_accuracy: 0.9574\n",
            "Epoch 7/10\n",
            "847/847 [==============================] - 53s 62ms/step - loss: 0.3795 - accuracy: 0.9746 - val_loss: 0.4437 - val_accuracy: 0.9600\n",
            "Epoch 8/10\n",
            "847/847 [==============================] - 53s 63ms/step - loss: 0.3421 - accuracy: 0.9769 - val_loss: 0.3877 - val_accuracy: 0.9664\n",
            "Epoch 9/10\n",
            "847/847 [==============================] - 53s 63ms/step - loss: 0.2907 - accuracy: 0.9817 - val_loss: 0.4232 - val_accuracy: 0.9622\n",
            "Epoch 10/10\n",
            "847/847 [==============================] - 55s 65ms/step - loss: 0.2687 - accuracy: 0.9834 - val_loss: 0.3962 - val_accuracy: 0.9657\n",
            "* Accuracy on training set: 98.73%\n",
            "* Accuracy on test set: 96.55%\n"
          ],
          "name": "stdout"
        }
      ]
    },
    {
      "cell_type": "code",
      "metadata": {
        "colab": {
          "base_uri": "https://localhost:8080/",
          "height": 295
        },
        "id": "0_KfBnXa_MjC",
        "outputId": "24fc9e5e-dde9-48f4-db8c-95460e918949"
      },
      "source": [
        "history_dict = history.history\n",
        "loss_values = history_dict['loss']\n",
        "val_loss_values = history_dict['val_loss']\n",
        "epochs = range(1, (len(history.history['val_accuracy']) + 1))\n",
        "plt.plot(epochs, loss_values, 'bo', label='Training loss')\n",
        "plt.plot(epochs, val_loss_values, 'b', label='Validation loss')\n",
        "plt.title('Training and validation loss')\n",
        "plt.xlabel('Epochs')\n",
        "plt.ylabel('Loss')\n",
        "plt.legend()\n",
        "plt.show()\n"
      ],
      "execution_count": null,
      "outputs": [
        {
          "output_type": "display_data",
          "data": {
            "image/png": "[encoded data removed]",
            "text/plain": [
              "<Figure size 432x288 with 1 Axes>"
            ]
          },
          "metadata": {
            "tags": [],
            "needs_background": "light"
          }
        }
      ]
    },
    {
      "cell_type": "markdown",
      "metadata": {
        "id": "VQlpgtZAA4dL"
      },
      "source": [
        "# **RMSprop optimizer**"
      ]
    },
    {
      "cell_type": "code",
      "metadata": {
        "colab": {
          "base_uri": "https://localhost:8080/"
        },
        "id": "lckaE2frA-Kr",
        "outputId": "ef4d05c8-30ca-4120-be99-8609ca6a9b89"
      },
      "source": [
        "import tensorflow_addons as tfa\n",
        "def accuracy(y_true, y_pred):\n",
        "    '''Compute classification accuracy with a fixed threshold on distances.\n",
        "    '''\n",
        "    return K.mean(K.equal(y_true, K.cast(y_pred < 0.5, y_true.dtype)))\n",
        "def accuracy1(y_true,y_pred):\n",
        "    pred = y_pred.ravel() < 0.5\n",
        "    return np.mean(pred == y_true) \n",
        "def eucliddist(X,y):\n",
        "  dist =  K.sum(K.square(X - y), axis=1, keepdims=True)\n",
        "  return dist\n",
        "def euclid(values):\n",
        "  X,y = values\n",
        "  dist = eucliddist(X,y)\n",
        "  return K.sqrt(K.maximum(dist, K.epsilon()))\n",
        "def euclidshape(shapes):\n",
        "  shape1, shape2 = shapes\n",
        "  return (shape1[0], 1)\n",
        "def loss1(Y_real,Y_predicted):\n",
        "    # Y_predicted = tf.dtypes.cast(Y_predicted, tf.int64)\n",
        "    # print(Y_predicted.dtype)\n",
        "    # print(Y_real.dtype)\n",
        "    margin = 1\n",
        "    sqaureprediction = K.square(Y_predicted)\n",
        "    marginsquare = K.square(K.maximum(margin - Y_predicted, 0))\n",
        "    return K.mean(Y_real * sqaureprediction + (1 - Y_real) * marginsquare)\n",
        "def paircreation(X,digitindices):\n",
        "  pairs = []\n",
        "  labels = []\n",
        "  n = min([len(digitindices[d]) for d in range(10)]) - 1    \n",
        "  i = 0\n",
        "  while(i<10):\n",
        "    j = 0\n",
        "    while(j<n):\n",
        "      z1 = digitindices[i][j]\n",
        "      z2 = digitindices[i][j + 1]\n",
        "      pairs += [[X[z1], X[z2]]]\n",
        "      inc = random.randrange(1, 10)\n",
        "      dn = (i + inc) % 10\n",
        "      z1, z2 = digitindices[i][j], digitindices[dn][j]\n",
        "      pairs += [[X[z1], X[z2]]]\n",
        "      labels += [1, 0]    \n",
        "      j = j+1\n",
        "    i = i+1\n",
        "  return np.array(pairs), np.array(labels)\n",
        "def base_model(inputshape):\n",
        "    input = Input(shape=inputshape)\n",
        "    x = Dense(128, activation='relu')(input)\n",
        "    x = Dense(128, activation='relu')(x)\n",
        "    x = Dense(128, activation='relu')(x)\n",
        "    x = Lambda(lambda  x: K.l2_normalize(x,axis=1))(x)\n",
        "    x = Lambda(lambda  x: K.l2_normalize(x,axis=1))(x)\n",
        "    return Model(input,x)\n",
        "digitindices = [np.where(Y_train == i)[0] for i in range(10)]\n",
        "tr_pairs, tr_y = paircreation(X_train, digitindices)\n",
        "tr_y = tr_y.astype(\"float32\")\n",
        "#print(tr_pairs,tr_y)\n",
        "digitindices = [np.where(Y_test == i)[0] for i in range(10)]\n",
        "te_pairs, te_y = paircreation(X_test, digitindices)\n",
        "te_y = te_y.astype(\"float32\")\n",
        "#print(te_pairs,te_y)\n",
        "modelbase = base_model(input_shape)\n",
        "input_a = Input(shape=input_shape)\n",
        "input_b = Input(shape=input_shape)\n",
        "processeda = modelbase(input_a)\n",
        "processedb = modelbase(input_b)\n",
        "distance = Lambda(euclid,output_shape=euclidshape)([processeda, processedb])\n",
        "MOdel = Model([input_a, input_b], distance)    \n",
        "rms = RMSprop()\n",
        "MOdel.compile(loss=tfa.losses.TripletSemiHardLoss(), optimizer=rms, metrics=[accuracy])\n",
        "history = MOdel.fit([tr_pairs[:, 0], tr_pairs[:, 1]], tr_y,batch_size=128,epochs=10,validation_data=([te_pairs[:, 0], te_pairs[:, 1]], te_y))\n",
        "y_pred_tr = MOdel.predict([tr_pairs[:, 0], tr_pairs[:, 1]])\n",
        "y_pred_te = MOdel.predict([te_pairs[:, 0], te_pairs[:, 1]])\n",
        "\n",
        "\n",
        "\n",
        "trainaccuracy = accuracy1(tr_y, y_pred_tr)\n",
        "testaccuracy = accuracy1(te_y, y_pred_te) \n",
        "print('* Accuracy on training set: %0.2f%%' % (100 * trainaccuracy))\n",
        "print('* Accuracy on test set: %0.2f%%' % (100 * testaccuracy))\n"
      ],
      "execution_count": null,
      "outputs": [
        {
          "output_type": "stream",
          "text": [
            "Epoch 1/10\n",
            "847/847 [==============================] - 63s 72ms/step - loss: 0.9157 - accuracy: 0.8037 - val_loss: 0.6236 - val_accuracy: 0.9238\n",
            "Epoch 2/10\n",
            "847/847 [==============================] - 54s 63ms/step - loss: 0.6928 - accuracy: 0.9313 - val_loss: 0.5095 - val_accuracy: 0.9460\n",
            "Epoch 3/10\n",
            "847/847 [==============================] - 53s 63ms/step - loss: 0.5658 - accuracy: 0.9533 - val_loss: 0.4849 - val_accuracy: 0.9517\n",
            "Epoch 4/10\n",
            "847/847 [==============================] - 53s 62ms/step - loss: 0.4860 - accuracy: 0.9646 - val_loss: 0.4531 - val_accuracy: 0.9569\n",
            "Epoch 5/10\n",
            "847/847 [==============================] - 52s 62ms/step - loss: 0.4357 - accuracy: 0.9713 - val_loss: 0.4190 - val_accuracy: 0.9589\n",
            "Epoch 6/10\n",
            "847/847 [==============================] - 52s 62ms/step - loss: 0.3746 - accuracy: 0.9753 - val_loss: 0.4210 - val_accuracy: 0.9610\n",
            "Epoch 7/10\n",
            "847/847 [==============================] - 53s 62ms/step - loss: 0.3265 - accuracy: 0.9802 - val_loss: 0.3983 - val_accuracy: 0.9635\n",
            "Epoch 8/10\n",
            "847/847 [==============================] - 55s 65ms/step - loss: 0.2991 - accuracy: 0.9822 - val_loss: 0.3791 - val_accuracy: 0.9652\n",
            "Epoch 9/10\n",
            "847/847 [==============================] - 54s 64ms/step - loss: 0.2594 - accuracy: 0.9846 - val_loss: 0.3770 - val_accuracy: 0.9680\n",
            "Epoch 10/10\n",
            "847/847 [==============================] - 57s 68ms/step - loss: 0.2425 - accuracy: 0.9862 - val_loss: 0.4037 - val_accuracy: 0.9623\n",
            "* Accuracy on training set: 98.52%\n",
            "* Accuracy on test set: 96.21%\n"
          ],
          "name": "stdout"
        }
      ]
    },
    {
      "cell_type": "code",
      "metadata": {
        "colab": {
          "base_uri": "https://localhost:8080/",
          "height": 295
        },
        "id": "dUuUoB-bBHIj",
        "outputId": "40df5708-9d15-4b97-a8e1-cc54a5d9a933"
      },
      "source": [
        "history_dict = history.history\n",
        "loss_values = history_dict['loss']\n",
        "val_loss_values = history_dict['val_loss']\n",
        "epochs = range(1, (len(history.history['val_accuracy']) + 1))\n",
        "plt.plot(epochs, loss_values, 'bo', label='Training loss')\n",
        "plt.plot(epochs, val_loss_values, 'b', label='Validation loss')\n",
        "plt.title('Training and validation loss')\n",
        "plt.xlabel('Epochs')\n",
        "plt.ylabel('Loss')\n",
        "plt.legend()\n",
        "plt.show()\n"
      ],
      "execution_count": null,
      "outputs": [
        {
          "output_type": "display_data",
          "data": {
            "image/png": "[encoded data removed]",
            "text/plain": [
              "<Figure size 432x288 with 1 Axes>"
            ]
          },
          "metadata": {
            "tags": [],
            "needs_background": "light"
          }
        }
      ]
    },
    {
      "cell_type": "markdown",
      "metadata": {
        "id": "B4-1943PBf0X"
      },
      "source": [
        "# **MINI BATCH GRADIENT DESCENT**"
      ]
    },
    {
      "cell_type": "code",
      "metadata": {
        "colab": {
          "base_uri": "https://localhost:8080/"
        },
        "id": "mGfbe95eBkb3",
        "outputId": "3e5e3409-8a81-4ea2-e6c7-7493c453268c"
      },
      "source": [
        "import tensorflow_addons as tfa\n",
        "def accuracy(y_true, y_pred):\n",
        "    '''Compute classification accuracy with a fixed threshold on distances.\n",
        "    '''\n",
        "    return K.mean(K.equal(y_true, K.cast(y_pred < 0.5, y_true.dtype)))\n",
        "def accuracy1(y_true,y_pred):\n",
        "    pred = y_pred.ravel() < 0.5\n",
        "    return np.mean(pred == y_true) \n",
        "def eucliddist(X,y):\n",
        "  dist =  K.sum(K.square(X - y), axis=1, keepdims=True)\n",
        "  return dist\n",
        "def euclid(values):\n",
        "  X,y = values\n",
        "  dist = eucliddist(X,y)\n",
        "  return K.sqrt(K.maximum(dist, K.epsilon()))\n",
        "def euclidshape(shapes):\n",
        "  shape1, shape2 = shapes\n",
        "  return (shape1[0], 1)\n",
        "def loss1(Y_real,Y_predicted):\n",
        "    # Y_predicted = tf.dtypes.cast(Y_predicted, tf.int64)\n",
        "    # print(Y_predicted.dtype)\n",
        "    # print(Y_real.dtype)\n",
        "    margin = 1\n",
        "    sqaureprediction = K.square(Y_predicted)\n",
        "    marginsquare = K.square(K.maximum(margin - Y_predicted, 0))\n",
        "    return K.mean(Y_real * sqaureprediction + (1 - Y_real) * marginsquare)\n",
        "def paircreation(X,digitindices):\n",
        "  pairs = []\n",
        "  labels = []\n",
        "  n = min([len(digitindices[d]) for d in range(10)]) - 1    \n",
        "  i = 0\n",
        "  while(i<10):\n",
        "    j = 0\n",
        "    while(j<n):\n",
        "      z1 = digitindices[i][j]\n",
        "      z2 = digitindices[i][j + 1]\n",
        "      pairs += [[X[z1], X[z2]]]\n",
        "      inc = random.randrange(1, 10)\n",
        "      dn = (i + inc) % 10\n",
        "      z1, z2 = digitindices[i][j], digitindices[dn][j]\n",
        "      pairs += [[X[z1], X[z2]]]\n",
        "      labels += [1, 0]    \n",
        "      j = j+1\n",
        "    i = i+1\n",
        "  return np.array(pairs), np.array(labels)\n",
        "def base_model(inputshape):\n",
        "    input = Input(shape=inputshape)\n",
        "    x = Dense(128, activation='relu')(input)\n",
        "    x = Dense(128, activation='relu')(x)\n",
        "    x = Dense(128, activation='relu')(x)\n",
        "    x = Lambda(lambda  x: K.l2_normalize(x,axis=1))(x)\n",
        "    x = Lambda(lambda  x: K.l2_normalize(x,axis=1))(x)\n",
        "    return Model(input,x)\n",
        "digitindices = [np.where(Y_train == i)[0] for i in range(10)]\n",
        "tr_pairs, tr_y = paircreation(X_train, digitindices)\n",
        "tr_y = tr_y.astype(\"float32\")\n",
        "#print(tr_pairs,tr_y)\n",
        "digitindices = [np.where(Y_test == i)[0] for i in range(10)]\n",
        "te_pairs, te_y = paircreation(X_test, digitindices)\n",
        "te_y = te_y.astype(\"float32\")\n",
        "#print(te_pairs,te_y)\n",
        "modelbase = base_model(input_shape)\n",
        "input_a = Input(shape=input_shape)\n",
        "input_b = Input(shape=input_shape)\n",
        "processeda = modelbase(input_a)\n",
        "processedb = modelbase(input_b)\n",
        "distance = Lambda(euclid,output_shape=euclidshape)([processeda, processedb])\n",
        "MOdel = Model([input_a, input_b], distance)    \n",
        "sgd =  SGD(lr = 0.01, decay=1e-6, momentum=0.9 ,nesterov=True)\n",
        "MOdel.compile(loss=tfa.losses.TripletSemiHardLoss(), optimizer=sgd, metrics=[accuracy])\n",
        "history = MOdel.fit([tr_pairs[:, 0], tr_pairs[:, 1]], tr_y,batch_size=128,epochs=10,validation_data=([te_pairs[:, 0], te_pairs[:, 1]], te_y))\n",
        "y_pred_tr = MOdel.predict([tr_pairs[:, 0], tr_pairs[:, 1]])\n",
        "y_pred_te = MOdel.predict([te_pairs[:, 0], te_pairs[:, 1]])\n",
        "trainaccuracy = accuracy1(tr_y, y_pred_tr)\n",
        "testaccuracy = accuracy1(te_y, y_pred_te) \n",
        "print('* Accuracy on training set: %0.2f%%' % (100 * trainaccuracy))\n",
        "print('* Accuracy on test set: %0.2f%%' % (100 * testaccuracy))\n"
      ],
      "execution_count": null,
      "outputs": [
        {
          "output_type": "stream",
          "text": [
            "Epoch 1/10\n",
            "847/847 [==============================] - 52s 61ms/step - loss: 0.9589 - accuracy: 0.7022 - val_loss: 0.7590 - val_accuracy: 0.8752\n",
            "Epoch 2/10\n",
            "847/847 [==============================] - 52s 61ms/step - loss: 0.8277 - accuracy: 0.8745 - val_loss: 0.6609 - val_accuracy: 0.9120\n",
            "Epoch 3/10\n",
            "847/847 [==============================] - 52s 62ms/step - loss: 0.7421 - accuracy: 0.9141 - val_loss: 0.5859 - val_accuracy: 0.9307\n",
            "Epoch 4/10\n",
            "847/847 [==============================] - 53s 62ms/step - loss: 0.6649 - accuracy: 0.9356 - val_loss: 0.5245 - val_accuracy: 0.9439\n",
            "Epoch 5/10\n",
            "847/847 [==============================] - 59s 69ms/step - loss: 0.6233 - accuracy: 0.9445 - val_loss: 0.5104 - val_accuracy: 0.9480\n",
            "Epoch 6/10\n",
            "847/847 [==============================] - 59s 69ms/step - loss: 0.5760 - accuracy: 0.9521 - val_loss: 0.5198 - val_accuracy: 0.9467\n",
            "Epoch 7/10\n",
            "847/847 [==============================] - 57s 67ms/step - loss: 0.5346 - accuracy: 0.9576 - val_loss: 0.4509 - val_accuracy: 0.9561\n",
            "Epoch 8/10\n",
            "847/847 [==============================] - 55s 65ms/step - loss: 0.4898 - accuracy: 0.9630 - val_loss: 0.4395 - val_accuracy: 0.9599\n",
            "Epoch 9/10\n",
            "847/847 [==============================] - 61s 72ms/step - loss: 0.4490 - accuracy: 0.9672 - val_loss: 0.4626 - val_accuracy: 0.9566\n",
            "Epoch 10/10\n",
            "847/847 [==============================] - 56s 66ms/step - loss: 0.4255 - accuracy: 0.9686 - val_loss: 0.4236 - val_accuracy: 0.9598\n",
            "* Accuracy on training set: 97.17%\n",
            "* Accuracy on test set: 95.95%\n"
          ],
          "name": "stdout"
        }
      ]
    },
    {
      "cell_type": "code",
      "metadata": {
        "colab": {
          "base_uri": "https://localhost:8080/",
          "height": 295
        },
        "id": "D0LtdRDvBzPg",
        "outputId": "8881235a-43f8-493f-b9f0-7e0fea612f06"
      },
      "source": [
        "history_dict = history.history\n",
        "loss_values = history_dict['loss']\n",
        "val_loss_values = history_dict['val_loss']\n",
        "epochs = range(1, (len(history.history['val_accuracy']) + 1))\n",
        "plt.plot(epochs, loss_values, 'bo', label='Training loss')\n",
        "plt.plot(epochs, val_loss_values, 'b', label='Validation loss')\n",
        "plt.title('Training and validation loss')\n",
        "plt.xlabel('Epochs')\n",
        "plt.ylabel('Loss')\n",
        "plt.legend()\n",
        "plt.show()\n"
      ],
      "execution_count": null,
      "outputs": [
        {
          "output_type": "display_data",
          "data": {
            "image/png": "[encoded data removed]",
            "text/plain": [
              "<Figure size 432x288 with 1 Axes>"
            ]
          },
          "metadata": {
            "tags": [],
            "needs_background": "light"
          }
        }
      ]
    },
    {
      "cell_type": "markdown",
      "metadata": {
        "id": "ilZhDxesE-0L"
      },
      "source": [
        "# **ACCURACY COMPARISION AND HYPERPARAMETER TRAINING**"
      ]
    },
    {
      "cell_type": "markdown",
      "metadata": {
        "id": "njXLvXyIFLbh"
      },
      "source": [
        "**ACCURACY OF ADAM - 96.55%**\n",
        "\n",
        "**ACCURACY OF RMSprop - 96.21%** \n",
        "\n",
        "**ACCURACY OF MINI BATCH GRADIENT DESCENT - 95.56%**\n",
        "\n",
        "*As we see ADAM has best accuracy as *\n",
        "\n",
        "-**Requires little memory space**\n",
        "\n",
        "-**Works well on problems with noisy or sparse gradients**\n",
        "\n",
        "-**Works well with large data sets and large parameters**"
      ]
    },
    {
      "cell_type": "markdown",
      "metadata": {
        "id": "NQ7m4Zu4GVic"
      },
      "source": [
        "**SINCE THE ACCURACY OF ADAM IS HIGHEST WE WILL HYPER PARAMETER TUNE ADAM**\n",
        "\n",
        "**CHANGED HYPERPARAMTERS ARE AS FOLLOWS-**\n",
        "\n",
        "**(lr=0.01, beta_1=0.9999, beta_2=0.999, epsilon=1e-08, decay=0.0)**\n",
        "\n",
        "**Dense layer size changed from 128 to 256**"
      ]
    },
    {
      "cell_type": "code",
      "metadata": {
        "colab": {
          "base_uri": "https://localhost:8080/"
        },
        "id": "rXLk3VyvFEiJ",
        "outputId": "bd1c97ed-9fca-41a4-a27b-c1727aceff9d"
      },
      "source": [
        "import tensorflow_addons as tfa\n",
        "def accuracy(y_true, y_pred):\n",
        "    '''Compute classification accuracy with a fixed threshold on distances.\n",
        "    '''\n",
        "    return K.mean(K.equal(y_true, K.cast(y_pred < 0.5, y_true.dtype)))\n",
        "def accuracy1(y_true,y_pred):\n",
        "    pred = y_pred.ravel() < 0.5\n",
        "    return np.mean(pred == y_true) \n",
        "def eucliddist(X,y):\n",
        "  dist =  K.sum(K.square(X - y), axis=1, keepdims=True)\n",
        "  return dist\n",
        "def euclid(values):\n",
        "  X,y = values\n",
        "  dist = eucliddist(X,y)\n",
        "  return K.sqrt(K.maximum(dist, K.epsilon()))\n",
        "def euclidshape(shapes):\n",
        "  shape1, shape2 = shapes\n",
        "  return (shape1[0], 1)\n",
        "def loss1(Y_real,Y_predicted):\n",
        "    # Y_predicted = tf.dtypes.cast(Y_predicted, tf.int64)\n",
        "    # print(Y_predicted.dtype)\n",
        "    # print(Y_real.dtype)\n",
        "    margin = 1\n",
        "    sqaureprediction = K.square(Y_predicted)\n",
        "    marginsquare = K.square(K.maximum(margin - Y_predicted, 0))\n",
        "    return K.mean(Y_real * sqaureprediction + (1 - Y_real) * marginsquare)\n",
        "def paircreation(X,digitindices):\n",
        "  pairs = []\n",
        "  labels = []\n",
        "  n = min([len(digitindices[d]) for d in range(10)]) - 1    \n",
        "  i = 0\n",
        "  while(i<10):\n",
        "    j = 0\n",
        "    while(j<n):\n",
        "      z1 = digitindices[i][j]\n",
        "      z2 = digitindices[i][j + 1]\n",
        "      pairs += [[X[z1], X[z2]]]\n",
        "      inc = random.randrange(1, 10)\n",
        "      dn = (i + inc) % 10\n",
        "      z1, z2 = digitindices[i][j], digitindices[dn][j]\n",
        "      pairs += [[X[z1], X[z2]]]\n",
        "      labels += [1, 0]    \n",
        "      j = j+1\n",
        "    i = i+1\n",
        "  return np.array(pairs), np.array(labels)\n",
        "def base_model(inputshape):\n",
        "    input = Input(shape=inputshape)\n",
        "    x = Dense(128, activation='relu')(input)\n",
        "    x = Dense(128, activation='relu')(x)\n",
        "    x = Dense(128, activation='relu')(x)\n",
        "    x = Lambda(lambda  x: K.l2_normalize(x,axis=1))(x)\n",
        "    x = Lambda(lambda  x: K.l2_normalize(x,axis=1))(x)\n",
        "    return Model(input,x)\n",
        "digitindices = [np.where(Y_train == i)[0] for i in range(10)]\n",
        "tr_pairs, tr_y = paircreation(X_train, digitindices)\n",
        "tr_y = tr_y.astype(\"float32\")\n",
        "#print(tr_pairs,tr_y)\n",
        "digitindices = [np.where(Y_test == i)[0] for i in range(10)]\n",
        "te_pairs, te_y = paircreation(X_test, digitindices)\n",
        "te_y = te_y.astype(\"float32\")\n",
        "#print(te_pairs,te_y)\n",
        "modelbase = base_model(input_shape)\n",
        "input_a = Input(shape=input_shape)\n",
        "input_b = Input(shape=input_shape)\n",
        "processeda = modelbase(input_a)\n",
        "processedb = modelbase(input_b)\n",
        "distance = Lambda(euclid,output_shape=euclidshape)([processeda, processedb])\n",
        "MOdel = Model([input_a, input_b], distance)    \n",
        "adm = keras.optimizers.Adam(lr=0.01, beta_1=0.99, beta_2=0.999, epsilon=1e-08, decay=0.0)\n",
        "MOdel.compile(loss=tfa.losses.TripletSemiHardLoss(), optimizer=adm, metrics=[accuracy])\n",
        "history = MOdel.fit([tr_pairs[:, 0], tr_pairs[:, 1]], tr_y,batch_size=128,epochs=10,validation_data=([te_pairs[:, 0], te_pairs[:, 1]], te_y))\n",
        "y_pred_tr = MOdel.predict([tr_pairs[:, 0], tr_pairs[:, 1]])\n",
        "y_pred_te = MOdel.predict([te_pairs[:, 0], te_pairs[:, 1]])\n",
        "\n",
        "\n",
        "\n",
        "trainaccuracy = accuracy1(tr_y, y_pred_tr)\n",
        "testaccuracy = accuracy1(te_y, y_pred_te) \n",
        "print('* Accuracy on training set: %0.2f%%' % (100 * trainaccuracy))\n",
        "print('* Accuracy on test set: %0.2f%%' % (100 * testaccuracy))\n"
      ],
      "execution_count": null,
      "outputs": [
        {
          "output_type": "stream",
          "text": [
            "Epoch 1/10\n",
            "847/847 [==============================] - 43s 49ms/step - loss: 0.9269 - accuracy: 0.8395 - val_loss: 0.6969 - val_accuracy: 0.9094\n",
            "Epoch 2/10\n",
            "847/847 [==============================] - 41s 49ms/step - loss: 0.7618 - accuracy: 0.9162 - val_loss: 0.5567 - val_accuracy: 0.9412\n",
            "Epoch 3/10\n",
            "847/847 [==============================] - 42s 49ms/step - loss: 0.6808 - accuracy: 0.9404 - val_loss: 0.5409 - val_accuracy: 0.9443\n",
            "Epoch 4/10\n",
            "847/847 [==============================] - 41s 49ms/step - loss: 0.6017 - accuracy: 0.9511 - val_loss: 0.5255 - val_accuracy: 0.9463\n",
            "Epoch 5/10\n",
            "847/847 [==============================] - 41s 49ms/step - loss: 0.5446 - accuracy: 0.9599 - val_loss: 0.4679 - val_accuracy: 0.9542\n",
            "Epoch 6/10\n",
            "847/847 [==============================] - 41s 49ms/step - loss: 0.4789 - accuracy: 0.9642 - val_loss: 0.4370 - val_accuracy: 0.9568\n",
            "Epoch 7/10\n",
            "847/847 [==============================] - 42s 50ms/step - loss: 0.4673 - accuracy: 0.9667 - val_loss: 0.4385 - val_accuracy: 0.9585\n",
            "Epoch 8/10\n",
            "847/847 [==============================] - 42s 50ms/step - loss: 0.4061 - accuracy: 0.9724 - val_loss: 0.4046 - val_accuracy: 0.9634\n",
            "Epoch 9/10\n",
            "847/847 [==============================] - 43s 50ms/step - loss: 0.3867 - accuracy: 0.9732 - val_loss: 0.4163 - val_accuracy: 0.9612\n",
            "Epoch 10/10\n",
            "847/847 [==============================] - 43s 51ms/step - loss: 0.3539 - accuracy: 0.9771 - val_loss: 0.3645 - val_accuracy: 0.9663\n",
            "* Accuracy on training set: 98.26%\n",
            "* Accuracy on test set: 96.61%\n"
          ],
          "name": "stdout"
        }
      ]
    },
    {
      "cell_type": "markdown",
      "metadata": {
        "id": "8n7sKnLRK6BM"
      },
      "source": [
        "**ACCURACY BEFORE HYPERPARAMETER TUNING - 96.51%**\n",
        "\n",
        "**ACCURACY AFTER HYPERPARAMETER TUNING - 97.61%**"
      ]
    },
    {
      "cell_type": "markdown",
      "metadata": {
        "id": "K9LmomhpI11_"
      },
      "source": [
        "# **PROS AND CONS OF SIAMESE NETWORK**"
      ]
    },
    {
      "cell_type": "markdown",
      "metadata": {
        "id": "cZ-CNbhtI6v7"
      },
      "source": [
        "**PROS**\n",
        "\n",
        "More Robust to class Imbalance: With the aid of One-shot learning, given a few images per class is sufficient for Siamese Networks to recognize those images in the future\n",
        "\n",
        "Nice to an ensemble with the best classifier: Given that its learning mechanism is somewhat different from Classification, simple averaging of it with a Classifier can do much better than average 2 correlated Supervised models (e.g. GBM & RF classifier)\n",
        "\n",
        "Learning from Semantic Similarity: Siamese focuses on learning embeddings (in the deeper layer) that place the same classes/concepts close together. Hence, can learn semantic similarity.\n",
        "\n",
        "**CONS**\n",
        "\n",
        "Needs more training time than normal networks: Since Siamese Networks involves quadratic pairs to learn from (to see all information available) it is slower than normal classification type of learning(pointwise learning)\n",
        "\n",
        "Doesn’t output probabilities: Since training involves pairwise learning, it won’t output the probabilities of the prediction, but the distance from each class"
      ]
    }
  ]
}